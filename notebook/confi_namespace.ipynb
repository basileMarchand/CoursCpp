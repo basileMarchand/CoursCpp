{
 "cells": [
  {
   "cell_type": "markdown",
   "metadata": {},
   "source": [
    "# Namespace"
   ]
  },
  {
   "cell_type": "markdown",
   "metadata": {},
   "source": [
    "## Des namespace dans quel but ? "
   ]
  },
  {
   "cell_type": "markdown",
   "metadata": {},
   "source": [
    "Le c++ a introduit par rapport au c historique, beaucoup de chose me direz vous certe mais dans le lot il y a les namespace, ou espace de nom en bon français. Le principe est de permettre un cloisonnement des fonctionnalité pour : (i) une meilleure organisation du code ; (ii) prévenir les collisions de noms. \n",
    "\n",
    "C'est ce que fait une classe déjà me direz vous !! Oui mais non en fait. Tout d'abord une classe a besoin d'être instanciée alors qu'un espace de nom non. De plus une classe est fermée dans le sens où elle est défini dans un fichier et si dans un autre fichier on veut ajouter une nouvelle méthode on ne peut pas. Alors qu'un *namespace* lui peut-être enrichie de toute part. \n",
    "\n",
    "Pour une analogie qui vous parlera forcément vous pouvez considérer les modules Python. Lorsque que l'on veut utilider des DataFrame de `pandas` par exemple la premier étape est d'importer le module `pandas`\n",
    "\n",
    "```python\n",
    "import pandas \n",
    "```\n",
    "\n",
    "`pandas` devient alors l'équivalent de notre namespace. Et donc pour utiliser un élément du module `pandas` on doit précéder cet élément du `namespace`. \n",
    "\n",
    "```python\n",
    "df = pandas.DataFrame()\n",
    "```\n",
    "\n",
    "Et bien les *namespace* C++ vont jouer exactement le même rôle."
   ]
  },
  {
   "cell_type": "markdown",
   "metadata": {},
   "source": [
    "## Définir et utiliser un namespace \n"
   ]
  },
  {
   "cell_type": "markdown",
   "metadata": {},
   "source": [
    "La définition d'un *namespace* se fait à l'aide du mot clé `namespace`, jusque là facile. Par exemple pour définir une fonction dans un *namespace* la syntaxe est la suivante : \n",
    "\n",
    "```c++\n",
    "\n",
    "namespace mylib{ // Debut du namespace\n",
    "void info(const std::string& msg){\n",
    "    std::cout << msg << std::endl;\n",
    "}\n",
    "\n",
    "void warning(const std::string& msg){\n",
    "    std::cout << \"[WARNING] \" << msg << std::endl;\n",
    "}\n",
    " \n",
    "} // end namespace mylib \n",
    "```\n",
    "\n",
    "On a ainsi définit deux fonctions dans le **namespace mylib**. Pour utiliser ces deux fonctions dans un programme il faudra alors spécifier le namespace. Par exemple : \n",
    "\n",
    "```c++\n",
    "#include \"myheader.h\"\n",
    "\n",
    "int main(){\n",
    "\n",
    "    mylib::info(\"Un message bidon\");\n",
    "    mylib::warning(\"Un warning bidon lui aussi\");\n",
    "\n",
    "    return 0;\n",
    "}\n",
    "```\n"
   ]
  },
  {
   "cell_type": "markdown",
   "metadata": {},
   "source": [
    "Et là vous vous dites que ça ressemble vachement à tous les `std::` qu'on se trimbale depuis le début du cours C++ en fait !!!! Et bien oui en effet et c'est normal car `std` n'est qu'un namespace, celui de la librairie standard c++. \n",
    "\n",
    "Et donc certains d'entre vous l'auront tout de suite deviné, ou pas. Cela veut donc dire que vous pouvez faire des choses du genre : \n",
    "\n",
    "```c++\n",
    "#include \"myheader.h\"\n",
    "\n",
    "using namespace mylib;\n",
    "\n",
    "int main(){\n",
    "\n",
    "    info(\"Un message bidon\");\n",
    "    warning(\"Un warning toujours bidon\");\n",
    "\n",
    "    return 0;\n",
    "}\n",
    "```"
   ]
  },
  {
   "cell_type": "markdown",
   "metadata": {},
   "source": [
    "Oui en effet vous pouvez le faire, mais attention... Au même titre que faire `from numpy import *` en Python est répréhensible par la loi, faire `using namespace toto` en c++ est passible de la peine capitale. Bon peut-être pas en vrai, je vais juste vous dire que c'est mal et vous faire une longue tirade sur les besoins d'élégance et de style en programmation. "
   ]
  },
  {
   "cell_type": "markdown",
   "metadata": {},
   "source": [
    "L'avantage des *namespace* comme nous l'avons dit précédemment est que l'on peut les définir en plusieurs étapes. Par exemple on peut commencer un namespace dans un premier fichier\n",
    "\n",
    "```c++\n",
    "// Fichier message.h\n",
    "#include <iostream>\n",
    "\n",
    "namespace mylib {\n",
    "    void info(const std::string& msg){\n",
    "        std::cout << msg << std::endl;\n",
    "    }\n",
    "\n",
    "    void warning(const std::string& msg){\n",
    "        std::cout << \"[WARNING] \" << msg << std::endl;\n",
    "    }\n",
    "\n",
    "}//end namespace\n",
    "```\n",
    "\n",
    "Et continuer à enrichir notre fichier dans un second namespace par exemple \n",
    "\n",
    "```c++\n",
    "// Fichier calcul.h\n",
    "\n",
    "namespace mylib {\n",
    "\n",
    "    double sum(const std::vector<double>& v){\n",
    "        double s = 0.;\n",
    "        for( auto x: v){\n",
    "            s += x;\n",
    "        }\n",
    "        return s;\n",
    "    }\n",
    "\n",
    "    double mean(const std::vector<double>& v){\n",
    "        return sum(v) / v.size();\n",
    "    }\n",
    "\n",
    "} // end namespace\n",
    "```\n",
    "\n",
    "Et on peut ensuite inclure nos deux fichiers dans notre fichier `main.cpp` et alors les fonctions seront toutes dans le namespace `mylib`. \n",
    "\n",
    "```c++\n",
    "#include <vector>\n",
    "\n",
    "#include \"message.h\"\n",
    "#include \"calcul.h\"\n",
    "\n",
    "int main(){\n",
    "    std::vector<double> v {1,2,3,4};\n",
    "    double s = mylib::sum(v);\n",
    "    double m = mylib::mean(v);\n",
    "\n",
    "    mylib::info(\"Tout marche\");\n",
    "\n",
    "    return 0;\n",
    "}\n",
    "```\n"
   ]
  },
  {
   "cell_type": "markdown",
   "metadata": {},
   "source": [
    "## Namespace trucs et astuces\n"
   ]
  },
  {
   "cell_type": "markdown",
   "metadata": {},
   "source": [
    "### Namespace imbriqués\n"
   ]
  },
  {
   "cell_type": "markdown",
   "metadata": {},
   "source": [
    "En Python on trouve régulièrement des choses du genre : \n",
    "\n",
    "```python\n",
    "import scipy.integrate as sci\n",
    "```\n",
    "\n",
    "C'est à dire l'importation d'un sous-module, donc un module dans un module. Et bien en C++ c'est pareil on peut définir des namespace dans des namespace. Quel intérêt me direz vous ? Et bien c'est surtout pour cloisonner le code et ranger les choses. Par exemple si l'on reprend l'exemple précédent des deux fonctions \"calcul\" et des deux fonctions \"affichage\" dans le namespace `mylib`. On pourrait très bien répartir ces fonctions dans deux sous-namespace afin de mieux organiser le code. Cela donnerait alors :"
   ]
  },
  {
   "cell_type": "markdown",
   "metadata": {},
   "source": [
    "```c++\n",
    "// Fichier message.h\n",
    "\n",
    "namespace mylib{\n",
    "    namespace message{\n",
    "\n",
    "        void info(const std::string& msg){\n",
    "            std::cout << msg << std::endl;\n",
    "        }\n",
    "\n",
    "        void warning(const std::string& msg){\n",
    "            std::cout << \"[WARNING] \" << msg << std::endl;\n",
    "        }\n",
    "    } // end namespace message \n",
    "} // end namespace mylib \n",
    "```\n",
    "\n",
    "et pour le fichier calcul \n",
    "\n",
    "```c++\n",
    "// Fichier calcul.h \n",
    "namespace mylib {\n",
    "\n",
    "    namespace calcul{\n",
    "        double sum(const std::vector<double>& v){\n",
    "            double s = 0.;\n",
    "            for( auto x: v){\n",
    "                s += x;\n",
    "            }   \n",
    "            return s;\n",
    "        }\n",
    "\n",
    "        double mean(const std::vector<double>& v){\n",
    "            return sum(v) / v.size();\n",
    "        }\n",
    "    } // end namespace calcul \n",
    "} // end namespace mylib \n",
    "```\n",
    "\n",
    "A l'usage cela donnerai alors \n",
    "\n",
    "```c++\n",
    "// Fichier main.cpp\n",
    "#include <vector>\n",
    "\n",
    "#include \"message.h\"\n",
    "#include \"calcul.h\"\n",
    "\n",
    "int main(){\n",
    "    std::vector<double> v {1,2,3,4};\n",
    "    double s = mylib::calcul::sum(v);\n",
    "    double m = mylib::calcul::mean(v);\n",
    "\n",
    "    mylib::message::info(\"Tout marche\");\n",
    "\n",
    "    return 0;\n",
    "}\n",
    "```"
   ]
  },
  {
   "cell_type": "markdown",
   "metadata": {},
   "source": [
    "### Renommer un namespase à l'usage \n"
   ]
  },
  {
   "cell_type": "markdown",
   "metadata": {},
   "source": [
    "Parfois il arrive que les namespace soient à rallonge et que l'on ait un peu la flemme de mettre le nom complet. Encore une fois l'analogie parfaite c'est Python. Nous avons tous l'habitude, je dirai même le reflexe inscrit dans nos gêne, de faire \n",
    "\n",
    "```python\n",
    "import numpy as np\n",
    "```\n",
    "\n",
    "En effet personne n'a le courage d'utiliser le nom `numpy` dans son intégralité dans ses programmes Python. Et bien en c++ on peut faire l'équivalent. La syntaxe repose encore sur le mot clé `namespace` et est la suivante : \n",
    "\n",
    "```c++\n",
    "namespace calc=mylib::calcul;\n",
    "```"
   ]
  },
  {
   "cell_type": "markdown",
   "metadata": {},
   "source": [
    "Par exemple si l'on reprend l'exemple précédent, on peut simplifier le fichier `main.cpp` de la manière suivante : \n",
    "\n",
    "```c++\n",
    "// Fichier main.cpp\n",
    "\n",
    "namespace msg=mylib::message;\n",
    "namespace calc=mylib::calcul;\n",
    "\n",
    "int main(){\n",
    "\n",
    "    std::vector<double> v {1,2,3,4};\n",
    "    msg::info(\"Un message bidon\");\n",
    "    double m = calc::mean(v);\n",
    "\n",
    "    return 0;\n",
    "}\n",
    "```"
   ]
  },
  {
   "cell_type": "code",
   "execution_count": null,
   "metadata": {},
   "outputs": [],
   "source": []
  }
 ],
 "metadata": {
  "kernelspec": {
   "display_name": "Python 3",
   "language": "python",
   "name": "python3"
  },
  "language_info": {
   "codemirror_mode": {
    "name": "ipython",
    "version": 3
   },
   "file_extension": ".py",
   "mimetype": "text/x-python",
   "name": "python",
   "nbconvert_exporter": "python",
   "pygments_lexer": "ipython3",
   "version": "3.7.4"
  }
 },
 "nbformat": 4,
 "nbformat_minor": 2
}
