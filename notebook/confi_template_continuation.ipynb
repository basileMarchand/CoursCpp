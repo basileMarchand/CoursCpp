{
 "cells": [
  {
   "cell_type": "markdown",
   "metadata": {},
   "source": [
    "Continuons nos template"
   ]
  },
  {
   "cell_type": "markdown",
   "metadata": {},
   "source": [
    "Tout d'abord, quelque chose qui n'est pas propre aux templates, c'est la définition de la fonction qui permet l'affichage d'un objet sur un flux de sortie, comme par exemple la sortie standard std::cout ou la sortie d'erreur std::cerr ..."
   ]
  },
  {
   "cell_type": "markdown",
   "metadata": {},
   "source": [
    "```c++\n",
    "// dans le fichier main.cpp\n",
    "#include <iostream>\n",
    "int main (int argc, char* argv[]) {\n",
    "    std::cout << \"Le nom de mon exécutable est \" << argv[0] << std::endl; \n",
    "}\n",
    "```\n",
    "```\n",
    "$ g++ main.cpp\n",
    "Le nom de mon exécutable est ./a.out\n",
    "```"
   ]
  },
  {
   "cell_type": "markdown",
   "metadata": {},
   "source": [
    "Vous remarquez que quand on écrit un objet, d'un type de base comme une chaîne de caractère ou un entier, on utilise un flux de sortie (ici std::cout) dans lequel on redirige avec << un objet d'un de ces types."
   ]
  },
  {
   "cell_type": "markdown",
   "metadata": {},
   "source": [
    "Pour les types de base de c++, il sait très bien faire. Certains d'entre vous on même remarqué que si on lui donne un tableau d'entiers il nous affiche l'adresse du tableau et si on lui donne un tableau de char, il nous affiche le contenu du tableau et pas l'adresse. Ce serait vraiment trop nul si quand je disais de faire *std::cout << \"Hello !\";* c++ m'affichait *0x7ffd34b6c260* c'est ce qu'il ferait si il n'avait pas traité les tableaux de caractères d'une manière spéciale !"
   ]
  },
  {
   "cell_type": "markdown",
   "metadata": {},
   "source": [
    "```c++\n",
    "// dans le fichier main.cpp\n",
    "#include <iostream>\n",
    "int main (int argc, char* argv []) {\n",
    "  int itab [] = {1, 2, 3, 4};\n",
    "  char ctab []  = {'h', 'e', 'l', 'l', 'o'};\n",
    "  std::cout << ctab << \" \" << itab << std::endl; \n",
    "}\n",
    "```\n",
    "```\n",
    "$ g++ main.cpp\n",
    "hello 0x7ffc8d24cce0\n",
    "```"
   ]
  },
  {
   "cell_type": "markdown",
   "metadata": {},
   "source": [
    "et pour nos types à nous, il n'essaie même pas de faire quoi que ce soit ! regardez ce qu'il fait quand on tente de lui faire afficher un objet d'un type X (il nous injurie copieusement)"
   ]
  },
  {
   "cell_type": "markdown",
   "metadata": {},
   "source": [
    "```c++\n",
    "// in file main.cpp\n",
    "#include <iostream>\n",
    "class X {};\n",
    "int main (int argc, char* argv []) {\n",
    "  X x;\n",
    "  std::cout << x << std::endl; \n",
    "}\n",
    "\n",
    "```\n",
    "```\n",
    "$ g++ main.cpp\n",
    "main.cpp: In function ‘int main(int, char**)’:\n",
    "main.cpp:5:13: error: no match for ‘operator<<’ (operand types are ‘std::ostream {aka std::basic_ostream<char>}’ and ‘X’)\n",
    "   std::cout << x << std::endl;\n",
    "   ~~~~~~~~~~^~~~\n",
    "In file included from /usr/include/c++/7/iostream:39:0,\n",
    "                 from main.cpp:1:\n",
    "/usr/include/c++/7/ostream:108:7: note: candidate: std::basic_ostream<_CharT, _Traits>::__ostream_type& std::basic_ostream<_CharT, _Traits>::operator<<(std::basic_ostream<_CharT, _Traits>::__ostream_type& (*)(std::basic_ostream<_CharT, _Traits>::__ostream_type&)) [with _CharT = char; _Traits = std::char_traits<char>; std::basic_ostream<_CharT, _Traits>::__ostream_type = std::basic_ostream<char>]\n",
    "       operator<<(__ostream_type& (*__pf)(__ostream_type&))\n",
    ".../...\n",
    "```"
   ]
  },
  {
   "cell_type": "markdown",
   "metadata": {},
   "source": [
    "Que nous dit-il ? et bien: *no match for ‘operator<<’ (operand types are ‘std::ostream’ and ‘X’)* et des tas de trucs bizarres après...\n",
    "\n",
    "En fait il n'a pas trouvé la fonction qui définit l'operateur $<<$ sur les objets de votre type *X*. Donc comment c++ reconnaît-il la fonction qu'il va utiliser pour afficher des objets de votre type X ? Il va chercher la fonction qui redéfinit *operator$<<$* en prenant comme première opérande un stream de sortie (*std::ostream*) et comme second argument un objet de type *X*. Super on y va !"
   ]
  },
  {
   "cell_type": "markdown",
   "metadata": {},
   "source": [
    "```c++\n",
    "// dans le fichier main.cpp\n",
    "#include <iostream>\n",
    "\n",
    "class X {};\n",
    "\n",
    "std::ostream& operator<< (std::ostream& os, const X& x) {\n",
    "  os << \"Je suis un objet de type X !\";\n",
    "  return os;\n",
    "}\n",
    "\n",
    "int main (int argc, char* argv []) {\n",
    "  X x;\n",
    "  std::cout << x << std::endl; \n",
    "}\n",
    "```\n",
    "```\n",
    "$ g++ main.cpp -o main\n",
    "$ ./main\n",
    "Je suis un objet de type X !\n",
    "```"
   ]
  },
  {
   "cell_type": "markdown",
   "metadata": {},
   "source": [
    "Alors là vous remarquez plusieurs choses, déjà nous avons passé notre objet x de type X par une référence sur un objet X constant. Toujours les mêmes raisons: avec *const* vous évitez de modifier par inadvertance, dans la fonction qui l'affiche, l'objet passé en argument (et croyez nous ca n'arrive pas qu'aux débutants) et avec le passage par référence (&) ? et bien vous éviter de recopier l'objet alors que vous vouliez simplement l'afficher. Que ceux qui pensent que x est tout petit et que ca ne pose pas de problèmes, rajoutent dans X une matrice de long long double de taille $1.000.000 \\times 1.000.000$, affichent un objet de type X, et on en reparle..."
   ]
  },
  {
   "cell_type": "markdown",
   "metadata": {},
   "source": [
    "Et puis vous remarquez que la fonction retourne le flux dans lequel elle écrit. Quelle en est la raison ? Et bien c'est pour chaîner les affichages. En effet faire *os << \"hello\" << 12* revient, si on le décompose, à appeler *operator<<(operator<<(os, \"hello\"), 12)*. Nous vous le montrons:"
   ]
  },
  {
   "cell_type": "markdown",
   "metadata": {},
   "source": [
    "```c++\n",
    "// in file main.cpp\n",
    "#include <iostream>\n",
    "int main () {\n",
    "  std::cout << \"hello\" << \" world\\n\";\n",
    "  std::operator<<( std::operator<<(std::cout, \"hello\"), \" world\\n\");\n",
    "}\n",
    "```\n",
    "```\n",
    "$ g++ main.cpp -o main\n",
    "$ ./main\n",
    "hello world\n",
    "hello world\n",
    "```"
   ]
  },
  {
   "cell_type": "markdown",
   "metadata": {},
   "source": [
    "Oui ces deux lignes font la même chose ! vous préférez la seconde ? nous aussi.\n",
    "\n",
    "Encore quelque chose avant de passer aux templates. Vous remarquez que l'operator$<<$ que nous avons défini sur les X est une fonction globale: ce n'est pas une fonction membre de la classe X. Il est habituel que ces fonctions d'affichage désirent utiliser des données privées (private) à la classe, que se passe-t-il ?"
   ]
  },
  {
   "cell_type": "markdown",
   "metadata": {},
   "source": [
    "```c++\n",
    "// in file main.cpp\n",
    "#include <iostream>\n",
    "\n",
    "class X {\n",
    "  int element;\n",
    "public:\n",
    "  X (int e) : element(e) {}\n",
    "};\n",
    "\n",
    "std::ostream& operator<< (std::ostream& os, const X& x) {\n",
    "  os << \"Je suis un objet de type X et de valeur \" << x.element;\n",
    "  return os;\n",
    "}\n",
    "int main (int argc, char* argv []) {\n",
    "  X x (12);\n",
    "  std::cout << x << std::endl; \n",
    "}\n",
    "```\n",
    "```\n",
    "$ g++ main.cpp\n",
    "main.cpp: In function ‘std::ostream& operator<<(std::ostream&, const X&)’:\n",
    "main.cpp:10:54: error: ‘int X::element’ is private within this context\n",
    "   os << \"Je suis un objet de type X et de valeur \" << x.element;\n",
    "                                                         ^~~~~~~\n",
    "main.cpp:4:7: note: declared private here\n",
    "   int element;\n",
    "       ^~~~~~~\n",
    "Compilation exited abnormally with code 1 at Thu Apr 23 22:01:28\n",
    "```"
   ]
  },
  {
   "cell_type": "markdown",
   "metadata": {},
   "source": [
    "c++ refuse très clairement (il est vrai que les messages d'erreur sont très parlants en c++ - sauf le ';' oublié à la fin de la déclaration d'une classe). Donc c++ refuse qu'une fonction globale accède au champ privé d'une classe qui ne veut pas. Il n'est pas envisageable de mettre ces membres en public pour arranger la fonction d'affichage. Il n'est pas du tout dans le style de c++ de déclarer des fonctions pour accéder aux champs privés (à-la get/set) sauf si c'est une exigence dans le design de cette classe. Mais alors comment allons nous faire ? oui bien sûr la classe va déclarer cette fonction friend. Donc comme toutes les fonctions friend choisies par une classe, elle pourra accéder aux champs privés (private) et protégés (protected) de la classe. "
   ]
  },
  {
   "cell_type": "markdown",
   "metadata": {},
   "source": [
    "```c++\n",
    "#include <iostream>\n",
    "\n",
    "class X {\n",
    "  friend std::ostream& operator<< (std::ostream&, const X&);\n",
    "  int element;\n",
    "public:\n",
    "  X (int e) : element(e) {}\n",
    "};\n",
    "\n",
    "std::ostream& operator<< (std::ostream& os, const X& x) {\n",
    "  os << \"Je suis un objet de type X de valeur \" << x.element;\n",
    "  return os;\n",
    "}\n",
    "int main (int argc, char* argv []) {\n",
    "  X x (12);\n",
    "  std::cout << x << std::endl; \n",
    "}\n",
    "```\n",
    "```\n",
    "$ g++ main.cpp -o main\n",
    "$ ./main\n",
    "Je suis un objet de type X de valeur 12\n",
    "```"
   ]
  },
  {
   "cell_type": "markdown",
   "metadata": {},
   "source": [
    "Passons maintenant à la même chose pour des classes templates. Dans le premier cas, la fonction d'affichage n'accède pas à un membre privé et n'a pas besoin de déclaration friend"
   ]
  },
  {
   "cell_type": "markdown",
   "metadata": {},
   "source": [
    "```c++\n",
    "// in file main.cpp\n",
    "#include <iostream>\n",
    "template <typename T>\n",
    "class X {\n",
    "  T element;\n",
    "public:\n",
    "  X (T e) : element(e) {}\n",
    "};\n",
    "\n",
    "template <typename T>\n",
    "std::ostream& operator<< (std::ostream& os, const X<T>& x) {\n",
    "  os << \"Je suis un objet de type X\";\n",
    "  return os;\n",
    "}\n",
    "int main (int argc, char* argv []) {\n",
    "  X<int> x (12);\n",
    "  std::cout << x << std::endl; \n",
    "}\n",
    "```\n",
    "```\n",
    "$ g++ main.cpp -o main\n",
    "$ ./main\n",
    "hello world\n",
    "hello world\n",
    "```"
   ]
  },
  {
   "cell_type": "markdown",
   "metadata": {},
   "source": [
    "On remarque que la fonction est template sur le type T dont a besoin la classe X."
   ]
  },
  {
   "cell_type": "markdown",
   "metadata": {},
   "source": [
    "Quand *element* est privé à la classe X, on doit déclarer la redéfinition de operator$<<$ en friend. Alors là nous vous l'accordons, c'est un peu compliqué syntaxiquement. Déjà la fonction operator$<<$ est une fonction template dans une classe template. Et en plus il faut éviter de réutiliser T, ca tombe bien y'a d'autres lettres disponibles."
   ]
  },
  {
   "cell_type": "markdown",
   "metadata": {},
   "source": [
    "```c++\n",
    "\n",
    "#include <iostream>\n",
    "\n",
    "template <typename T>\n",
    "class X {\n",
    "  template <typename U> friend std::ostream& operator<< (std::ostream&, const X<U>&);\n",
    "  T element;\n",
    "public:\n",
    "  X (T e) : element(e) {}\n",
    "};\n",
    "\n",
    "template <typename T>\n",
    "std::ostream& operator<< (std::ostream& os, const X<T>& x) {\n",
    "  os << \"Je suis un objet de type X de valeur \" << x.element;\n",
    "  return os;\n",
    "}\n",
    "int main (int argc, char* argv []) {\n",
    "  X<int> x (12);\n",
    "  std::cout << x << std::endl; \n",
    "}\n",
    "```"
   ]
  },
  {
   "cell_type": "markdown",
   "metadata": {},
   "source": [
    "C'est maintenant à vous de jouer, remplacer la fonction print de votre classe template Stack par la surcharge de l'operator$<<$ en la mettant friend."
   ]
  },
  {
   "cell_type": "markdown",
   "metadata": {},
   "source": [
    "Sautons maintenant du coq à l'âne (traduction en anglais: *jump from one subject to another*) et parlons de quelque chose de complètement différent."
   ]
  },
  {
   "cell_type": "markdown",
   "metadata": {},
   "source": [
    "Il n'y a pas que les types qu'une classe peut prendre en argument, il y a aussi des arguments classique, comme des int: "
   ]
  },
  {
   "cell_type": "markdown",
   "metadata": {},
   "source": [
    "```c++\n",
    "template <typename T, int SIZE>\n",
    "class X {\n",
    "  T tab [SIZE];\n",
    "public:\n",
    "};\n",
    "\n",
    "int main (int argc, char* argv []) {\n",
    "  X<int, 10> x;\n",
    "}\n",
    "```"
   ]
  },
  {
   "cell_type": "markdown",
   "metadata": {},
   "source": [
    "Alors là nous voyons votre oeil s'éclairer ... oui tous les objets de type X sont composé d'un tableau de SIZE objets de type T... ca ne vous donne pas une idée pour votre classe template ? Exactement vos piles peuvent être template non seulement sur le type des objets mais aussi sur la taille de la pile ! mais alors plus besoin de new ? non ! ni de delete ? non plus ! mais qu'en est-t-il du constructeur de copie et de l'affectation ? ... on ne peut pas gagner sur tous les tableaux c'est le cas de dire, ces deux fonctions ne s'appliqueront qu'aux piles ayant exactement le même T et le même SIZE."
   ]
  },
  {
   "cell_type": "markdown",
   "metadata": {},
   "source": [
    "Reprennez votre pile template et mettez la taille en template. Vous n'avez plus besoin de garder la taille de la pile: vous l'avez dans le template..."
   ]
  },
  {
   "cell_type": "markdown",
   "metadata": {},
   "source": [
    "Et maintenant encore une petite chose, il peut arriver que certains types ne soient pas compatibles pour les templates que vous écrivez. Ça a été le cas par exemple pour la fonction my_add sur le type des c-style string i.e. *const char\\** sur lesquels le + n'existait pas. C'est une erreur de compilation, mais tant que la fonction n'est pas utilisée sur ce type et bien on ne s'en rend pas compte ... donc  les templates c'est un peu délicat à débugger. Et si, quand vous testez une classe template sur un type donné, il faut définir toutes les fonctions pour s'assurer qu'elles soient bien ok (syntaxiquement) pour ce type ..."
   ]
  },
  {
   "cell_type": "markdown",
   "metadata": {},
   "source": [
    "Voici une petite version rapide de votre pile ."
   ]
  },
  {
   "cell_type": "markdown",
   "metadata": {},
   "source": [
    "```c++\n",
    "#include <iostream>\n",
    "\n",
    "template <typename T, int SIZE>\n",
    "class SmallStack {\n",
    "  T tab [SIZE];\n",
    "  int top=0;\n",
    "public:\n",
    "  void push (T e) {\n",
    "    tab[top++] = e;\n",
    "  }\n",
    "  T pop () {\n",
    "    return tab[--top];\n",
    "  }\n",
    "  void print () const {\n",
    "    for (int i=0 ; i<top; ++i)\n",
    "      std::cout << tab[i] << ' ';\n",
    "    std::cout << std::endl;\n",
    "  }\n",
    "};\n",
    "\n",
    "int main (int argc, char* argv []) {\n",
    "  SmallStack<int, 10> st;\n",
    "  st.push(1);\n",
    "  st.push(2);\n",
    "  st.push(3);\n",
    "  st.push(4);\n",
    "  st.print();\n",
    "  std::cout << \"pop \" << st.pop() << std::endl;\n",
    "  st.print();\n",
    "  std::cout << \"pop \" << st.pop() << std::endl;\n",
    "  st.print();\n",
    "  std::cout << \"pop \" << st.pop() << std::endl;\n",
    "  st.print();\n",
    "}\n",
    "```\n",
    "```\n",
    "$ g++ main.cpp -o main\n",
    "$ ./main\n",
    "1 2 3 4 \n",
    "pop 4\n",
    "1 2 3 \n",
    "pop 3\n",
    "1 2 \n",
    "pop 2\n",
    "1 \n",
    "```"
   ]
  },
  {
   "cell_type": "markdown",
   "metadata": {},
   "source": [
    "Maintenant je vous donne le code suivant, je vais instancier ma pile template sur un type X. Voyez vous les problèmes ? "
   ]
  },
  {
   "cell_type": "markdown",
   "metadata": {},
   "source": [
    "```c++\n",
    "// in file main.cpp\n",
    "#include <iostream>\n",
    "\n",
    "// même code de SmallStack que précédement\n",
    "template <typename T, int SIZE>\n",
    "class SmallStack {\n",
    "  T tab [SIZE];\n",
    "  int top=0;\n",
    "public:\n",
    "  void push (T e) {\n",
    "    tab[top++] = e;\n",
    "  }\n",
    "  T pop () {\n",
    "    return tab[--top];\n",
    "  }\n",
    "  void print () const {\n",
    "    for (int i=0 ; i<top; ++i)\n",
    "      std::cout << tab[i] << ' ';\n",
    "    std::cout << std::endl;\n",
    "  }\n",
    "};\n",
    "\n",
    "// une nouvelle classe\n",
    "class X {\n",
    "  int element;\n",
    "public:\n",
    "  X (int e) : element(e) {}\n",
    "};\n",
    "\n",
    "\n",
    "// une fonction qui ajoute un élément à une pile de 10 objets de type X\n",
    "void foo (SmallStack<X, 10>* st) {\n",
    "  X x(12);\n",
    "  st->push(x);\n",
    "}\n",
    "// et là rien de spécial\n",
    "int main () {\n",
    "    return 0;\n",
    "}\n",
    "```\n",
    "```\n",
    "$ g++ main.cpp -o main\n",
    "$ ./main\n",
    "```"
   ]
  },
  {
   "cell_type": "markdown",
   "metadata": {},
   "source": [
    "Je ne fais rien dans ce code donc c++ ne génèrera aucune fonction templates, mais pourtant j'aimerai bien savoir si l'instanciation de toutes les fonctions membres vont fonctionner pour ma classe template ... et bien je peux le faire, c++ me propose un mécanisme pour forcer l'instanciation, je n'ai qu'à dire:"
   ]
  },
  {
   "cell_type": "markdown",
   "metadata": {},
   "source": [
    "```c++\n",
    "template class SmallStack<X, 10>;\n",
    "```"
   ]
  },
  {
   "cell_type": "markdown",
   "metadata": {},
   "source": [
    "Si vous rajoutez cette ligne après la définition de la classe X et que vous compiliez votre programme vous allez obtenir une erreur:\n",
    "```\n",
    "g++ main.cpp\n",
    "main.cpp: In instantiation of ‘void SmallStack<T, SIZE>::print() const [with T = X; int SIZE = 10]’:\n",
    "main.cpp:27:16:   required from here\n",
    "main.cpp:16:17: error: no match for ‘operator<<’ (operand types are ‘std::ostream {aka std::basic_ostream<char>}’ and ‘const X’)\n",
    "       std::cout << tab[i] << ' ';\n",
    "       ~~~~~~~~~~^~~~~~~\n",
    "In file included from /usr/include/c++/7/iostream:39:0,\n",
    "                 from c0.cpp:1:\n",
    "/usr/include/c++/7/ostream:108:7: note: candidate: std::basic_ostream<_CharT, _Traits>::__ostream_type& std::basic_ostream<_CharT, _Traits>::operator<<(std::basic_ostream<_CharT, _Traits>::__ostream_type& (*)(std::basic_ostream<_CharT, _Traits>::__ostream_type&)) [with _CharT = char; _Traits = std::char_traits<char>; std::basic_ostream<_CharT, _Traits>::__ostream_type = std::basic_ostream<char>]\n",
    ".../...\n",
    "```"
   ]
  },
  {
   "cell_type": "markdown",
   "metadata": {},
   "source": [
    "Ah mais oui, le type X n'a pas redéfini l'operator$<<$  qui est appelé dans la fonction print de la classe SmallStack ! est-ce tout ? non regardez la fonction foo, il ne vous paraît pas bizarre son argument ? surtout sachant que les objets SmallStack contiennent un tableau à-la-c de SIZE objets de type T ... réflechissez et demandez nous si vous ne voyez pas."
   ]
  },
  {
   "cell_type": "markdown",
   "metadata": {},
   "source": [
    "END"
   ]
  }
 ],
 "metadata": {
  "kernelspec": {
   "display_name": "Python 3",
   "language": "python",
   "name": "python3"
  },
  "language_info": {
   "codemirror_mode": {
    "name": "ipython",
    "version": 3
   },
   "file_extension": ".py",
   "mimetype": "text/x-python",
   "name": "python",
   "nbconvert_exporter": "python",
   "pygments_lexer": "ipython3",
   "version": "3.7.4"
  },
  "toc": {
   "base_numbering": 1,
   "nav_menu": {},
   "number_sections": true,
   "sideBar": true,
   "skip_h1_title": false,
   "title_cell": "Table of Contents",
   "title_sidebar": "Contents",
   "toc_cell": false,
   "toc_position": {},
   "toc_section_display": true,
   "toc_window_display": false
  }
 },
 "nbformat": 4,
 "nbformat_minor": 2
}
