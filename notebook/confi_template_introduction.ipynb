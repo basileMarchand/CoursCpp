{
 "cells": [
  {
   "cell_type": "markdown",
   "metadata": {},
   "source": [
    "## C++ en confinement présente les *templates*"
   ]
  },
  {
   "cell_type": "markdown",
   "metadata": {},
   "source": [
    "Nous allons parler de modèles de classe. C++ parlant anglais,\n",
    "comme tous les langages de programmation, nous allons parler de\n",
    "*templates*."
   ]
  },
  {
   "cell_type": "markdown",
   "metadata": {},
   "source": [
    "Vous allez vous dire que nous sommes vraiment des maniaques des\n",
    "notebooks et qui plus est là ne serviront même pas à exécuter le\n",
    "code. Alors déjà c'est possible d'exécuter du c++ dans des notebooks (pas dans ceux-ci \n",
    "mais avec xeus et le compilateur cling) mais ce n'est pas aussi bien que\n",
    "pour le python, aussi nous n'allons surtout pas vous demander\n",
    "d'installer quoi que ce soit, les notebooks vont simplement nous\n",
    "servir à vous donner des explications suivies de (jolis) morceaux de code que\n",
    "vous pourrez copier/coller dans vos éditeurs (VSC) et compiler dans votre terminal. Nous en entondons qui disent\n",
    "que c'est vraiment nul, ils ont raison mais en période de confinement\n",
    "on fait ce qu'on peut avec ce qu'on a ..."
   ]
  },
  {
   "cell_type": "markdown",
   "metadata": {},
   "source": [
    "allez c'est parti pour *tout ce que vous auriez voulu savoir sur les templates*"
   ]
  },
  {
   "cell_type": "markdown",
   "metadata": {},
   "source": [
    "\n",
    "Voilà donc vous connaissez désormais un petit peu c++ et vous savez\n",
    "que c'est un langage typé, contrairement à Python où il n'est pas\n",
    "nécessaire de définir le type d'un objet pour pouvoir l'utiliser.\n",
    "\n",
    "Supposons qu'un client (un peu comme ceux de vos projets informatique\n",
    "mais en beaucoup plus pénible) vous demande d'implémenter une fonction\n",
    "pour diviser deux entiers. Vous écrivez le superbe code suivant (que vous pouvez naturellement essayer d'implémenter par vous-même)\n"
   ]
  },
  {
   "cell_type": "markdown",
   "metadata": {},
   "source": [
    "```c++\n",
    "int my_div (const int & a , const int & b ) {\n",
    "  return a/b ;\n",
    "}\n",
    "```"
   ]
  },
  {
   "cell_type": "markdown",
   "metadata": {},
   "source": [
    "Alors là vous voyez des `const` et bien oui la fonction `my_div` n'a pas besoin de modifier ses arguments, donc nous les mettons en lecture seule. Disons que c'est surtout pour nous éviter de les mofidier par mégarde ... c'est une aide à une programmation plus sûre\n",
    "\n",
    "Vous voyez aussi des références `&` et bien oui vous passez vos deux entiers par reférence afin d'éviter à c++ de les copier ... vous vous dites que c'est un peu stupide pour un entier (et que de plus on crée une *indirection* puisqu'on travaille sur des adresses, plutôt que de copier deux entiers) ... mais réfléchissez, nous voulons faire du code \"générique\", pensons à un autre type qu'entier, par exemple deux (super grosses) matrices (ok la division de deux matrices est un non-sens mathématique mais supposons que ca existe), donc si on passe les deux matrices par copie à la fonction (c'est à dire sans le `&`) la fonction va recopier complètement en mémoire les matrices et tout cela pour simplement les regardez !  là c'est un non sens-informatique..."
   ]
  },
  {
   "cell_type": "markdown",
   "metadata": {},
   "source": [
    "et vous le testez votre code"
   ]
  },
  {
   "cell_type": "markdown",
   "metadata": {},
   "source": [
    "```c++\n",
    "#include <iostream>\n",
    "\n",
    "int main () {\n",
    "  std::cout << my_div(10, 3) << std::endl;\n",
    "  return 0;\n",
    "}\n",
    "```"
   ]
  },
  {
   "cell_type": "markdown",
   "metadata": {},
   "source": [
    "La fonction marche super bien vous êtes très content. Mais le client\n",
    "revient et vous dit qu'il veut aussi diviser deux doubles. int double ce sont des types numériques, essayons déjà ce qu'on possède"
   ]
  },
  {
   "cell_type": "markdown",
   "metadata": {},
   "source": [
    "```c++\n",
    "int main () {\n",
    "   std::cout << div(10., 3.) << std::endl;\n",
    "   return 0;\n",
    "}\n",
    "```"
   ]
  },
  {
   "cell_type": "markdown",
   "metadata": {},
   "source": [
    "heu... votre fonction fait une division entière c'est pas bon alors\n",
    "vous faite une nouvelle fonction div qui prend deux doubles et qui\n",
    "rend un double."
   ]
  },
  {
   "cell_type": "markdown",
   "metadata": {},
   "source": [
    "```c++\n",
    "double my_div (const double & a, const double & b ) {\n",
    "  return a/b ;\n",
    "}\n",
    "```"
   ]
  },
  {
   "cell_type": "markdown",
   "metadata": {},
   "source": [
    "Au passage vous remarquez que c++ accepte dans un même code des\n",
    "fonctions qui ont le même nom puisqu'il arrive à les discriminer par\n",
    "leurs arguments (nombre ou type, ici type) c'est ce qu'on appelle l'overloading"
   ]
  },
  {
   "cell_type": "markdown",
   "metadata": {},
   "source": [
    "Maintenant votre client revient il veut diviser des short, bon ça\n",
    "commence à bien faire, vous en avez assez de ce code super redondant\n",
    "(et de ce client aussi) donc vous respirez un grand coup et vous\n",
    "remarquez que le code n'est pas si différent voire franchement\n",
    "semblable d'une fonction div à une autre. Et comme tout le monde en\n",
    "programmation, vous êtes super paresseux, vous détestez écrire\n",
    "plusieurs fois la même chose (surtout que vous utilisez le\n",
    "copier/coller et que vous faites des tas d'erreurs stupides qui prennent un temps fou à corriger, et oui c'est classique en programmation)."
   ]
  },
  {
   "cell_type": "markdown",
   "metadata": {},
   "source": [
    "Et vous pressentez déjà que votre client n'en restera pas là... vous\n",
    "vous dites que dans un langage de programmation aussi magnifique que\n",
    "c++, il doit bien exister un mécanisme dédié pour éviter ce genre de\n",
    "redondance de code !"
   ]
  },
  {
   "cell_type": "markdown",
   "metadata": {},
   "source": [
    "La réponse est que ca existe ! Au moment de l'implémentation d'un\n",
    "code, vous allez dire qu'une partie d'un code, que ce soit une\n",
    "fonction ou une classe, sera utilisable pour n'importe quel type de\n",
    "données. Et au moment de la compilation c++ se chargera de générer\n",
    "automatiquement toutes les fonctions nécessaires. Il\n",
    "le fera bien sûr à partir des modèles que vous lui avez indiqués. Et\n",
    "il ne mettra naturellement que ce qui est utile ! c'est top"
   ]
  },
  {
   "cell_type": "markdown",
   "metadata": {},
   "source": [
    "Voilà vous avez compris l'idée de base des templates: vous allez\n",
    "écrire du code que le compilateur va utiliser pour produire un autre\n",
    "code c'est pour cela que les gens appelle ça de la méta-programmation."
   ]
  },
  {
   "cell_type": "markdown",
   "metadata": {},
   "source": [
    "```c++\n",
    "#include <iostream>\n",
    "\n",
    "template < typename T>\n",
    "T my_div (const T & a, const T & b ) {\n",
    "  return a/b ;\n",
    "}\n",
    "int main () {\n",
    "  std::cout << my_div(10, 3) << std::endl;\n",
    "  std::cout << my_div(10., 3.) << std::endl;\n",
    "  return 0;\n",
    "}\n",
    "```"
   ]
  },
  {
   "cell_type": "markdown",
   "metadata": {},
   "source": [
    "Vous remarquez plusieurs choses: (i) que nous déclarons que la fonction que nous implémentons est un modèle (template) de fonction; (ii) que le nom choisi pour le type est T (là on aime mettre des majuscules) et (iii) que votre fonction consiste à prendre en argument deux références (&) vers des objets constants (const) de type T et à renvoyer leur division (/). Alors là déjà vous remarquez un premier problème potentiel: si pour le type T l'opérateur / n'est pas défini, vous allez avoir une erreur... on essaie:"
   ]
  },
  {
   "cell_type": "markdown",
   "metadata": {},
   "source": [
    "``` c++\n",
    "// file tmpl_div.cpp\n",
    "template < typename T>\n",
    "T my_div (const T a, const T b ) {\n",
    "  return a/b ;\n",
    "}\n",
    "class X {}; // pas de redéfinition de operator/ dans la classe X\n",
    "int main () {\n",
    "  X x1, x2;\n",
    "  X x3 = my_div(x1, x2);\n",
    "  return 0;\n",
    "}\n",
    "```\n",
    "```\n",
    "$ g++ tmpl_div.cpp\n",
    "tmpl_div.cpp: In instantiation of ‘T my_div(T, T) [with T = X]’:\n",
    "tmpl_div.cpp:10:23:   required from here\n",
    "tmpl_div.cpp:5:11: error: no match for ‘operator/’ (operand types are ‘const X’ and ‘const X’)\n",
    "   return a/b ;\n",
    "          ~^~\n",
    "```"
   ]
  },
  {
   "cell_type": "markdown",
   "metadata": {},
   "source": [
    "ok c++ refuse de compiler ce programme en faisant une erreur au moment de la compilation (décidément pas facile de le tromper celui là). Ce mécanisme de génération de code à la compilation vous paraît vraiment extrêmement\n",
    "puissant et vous avez raison, il est responsable en grande partie du grand succès de c++ et vous n'avez encore rien vu, attendez de voir le *pretty print* de Basile mais plus tard...  restons encore un moment sur les bases\n"
   ]
  },
  {
   "cell_type": "markdown",
   "metadata": {},
   "source": [
    "Mais voilà que votre client revient à nouveau (vous pensez fugacement à changer de domaine, peut être les matériaux) avec une nouvelle demande: une fonction add pour additionner des entiers, des doubles mais aussi maintenant des chaînes de caractères (ca doit les concaténer) alors vous réflechissez déjà c'est facile si il a des chaînes de caractères sous la forme de std::string, puisqu'elles ont l'opérateur +"
   ]
  },
  {
   "cell_type": "markdown",
   "metadata": {},
   "source": [
    "```c++\n",
    "// file tmpl_add.cpp\n",
    "#include <iostream>\n",
    "#include <string>\n",
    "template < typename T>\n",
    "T my_add (const T a, const T b ) {\n",
    "  return a+b ;\n",
    "}\n",
    "int main () {\n",
    "   std::cout << my_add(12, 4) << std::endl;\n",
    "   std::cout << my_add(12.7, 4.92) << std::endl;\n",
    "   std::string s1 (\"on\");\n",
    "   std::string s2 (\" confine\");\n",
    "   std::cout << my_add(s1, s2) << std::endl;\n",
    "      ;\n",
    "    return 0;\n",
    "}\n",
    "```\n",
    "```\n",
    "$ g++ tmpl_add.cpp -o tmpl_add\n",
    "$ tmpl_add\n",
    "16\n",
    "17.62\n",
    "on confine\n",
    "```"
   ]
  },
  {
   "cell_type": "markdown",
   "metadata": {},
   "source": [
    "pas de chance, votre client voulait des chaînes de caractères *c-like* des années 80 sous la forme de char* (décidément ce client qui ne connait même pas l'informatique de base...) une seule fonction template ne suffit plus, les char* n'ont pas de fonction '+'. Qu'à cela ne tienne, c++ vous permet de spécialiser des fonctions templates i.e. les redéfinir pour certains types de données."
   ]
  },
  {
   "cell_type": "markdown",
   "metadata": {},
   "source": [
    "```c++\n",
    "template < typename T>\n",
    "T my_add (const T a, const T b) {\n",
    "  return a+b ;\n",
    "}\n",
    "\n",
    "char* my_add (const char* a, const char* b) {\n",
    "  return \"add on char* pas intéressant à implémenter: préfèrez les std::string !\" ;\n",
    "}\n",
    "\n",
    "int main () {\n",
    "  std::cout << my_add(10, 3) << std::endl;\n",
    "  const char* s1 = \"on\";\n",
    "  const char* s2 = \" confine\";\n",
    "  std::cout << my_add(s1, s2);\n",
    "  return 0;\n",
    "}\n",
    "```\n",
    "```\n",
    "$ g++ my_add.cpp\n",
    "(là un petit warning)\n",
    "\"add on char* pas intéressant à implémenter: préfèrez les std::string !\" ;\n",
    "```"
   ]
  },
  {
   "cell_type": "markdown",
   "metadata": {},
   "source": [
    "bon très bien tout cela, mais on vous promet un mécanisme super sophistiqué et pour l'instant on vous a fait coder de petites opérations... pas extraordinaire tout ça. Et vous avez raison, les classes aussi peuvent être des modèles de classes. Commencons par jouer avec un tout petit exemple: une classe Toy, composée d'un élément de type T et sur laquelle on définit la fonction play qui affiche un message et l'élément et d'une autre fonction tidy qui fait de même."
   ]
  },
  {
   "cell_type": "markdown",
   "metadata": {},
   "source": [
    "```c++\n",
    "#include <iostream>\n",
    "template <typename T>\n",
    "class Toy {\n",
    "private:\n",
    "  T element;\n",
    "public:\n",
    "  Toy (T e): element(e) {}\n",
    "    \n",
    "  void play () {\n",
    "    std::cout << \"Playing with \" << element << std::endl;\n",
    "  }\n",
    "    \n",
    "  void tidy () {\n",
    "    std::cout << \"Je range \" << element << std::endl;\n",
    "  }\n",
    "};\n",
    "```\n",
    "\n",
    "et le main\n",
    "```c++\n",
    "Toy<float> feu(1.7);\n",
    "int main () {\n",
    "  feu.play();\n",
    "  Toy<const char*> jeu(\"c++\");\n",
    "  jeu.play();\n",
    "  Toy<int>* peu = new Toy<int>(12);\n",
    "  peu->tidy();\n",
    "  Toy<bool>* beu;\n",
    "}\n",
    "```\n",
    "\n",
    "et on compile\n",
    "```\n",
    "$ g++ toy.cpp -o toy\n",
    "$ ./toy\n",
    "Playing with 1.7\n",
    "Playing with c++\n",
    "Je range 12\n",
    "\n",
    "```"
   ]
  },
  {
   "cell_type": "markdown",
   "metadata": {},
   "source": [
    "Vous remarquez des tas de choses...\n",
    "\n",
    "Déjà la classe Toy est une classe template, le type non défini s'appelle (typename) T, dans la définition de la classe Toy, T apparaît comme le type du membre de donné element et comme le type de l'argument passé au constructeur.\n",
    "\n",
    "Dans la partie main c'est encore plus intéressant ! vous voyez qu'on demande la création d'une variable globale feu de type Toy ou le type de element est un float (avec $<$float$>$) et qu'on l'initialise en passant la valeur 1.7 à son constructeur, dans le main on crée une variable locale jeu de type Toy où T est const char* avec (avec <const char*>) et ensuite une variable peu qui est un pointeur de type Toy où T est int qui pointe vers un objet aloué en mémoire dynamique, et qu'on définit un pointeur vers une variable de type Toy où T est bool. Vous constatez que les appels des fonctions sont classiques."
   ]
  },
  {
   "cell_type": "markdown",
   "metadata": {},
   "source": [
    "Intéressons nous à la compilation d'un tel code. Quelles sont les fonctions que c++ va générer à partir de ce code ?\n",
    "\n",
    "Il va générer toutes les fonctions dont vos objets ont besoin (qu'ils les utilisent utilisent explicitement ou implicitement - vous voyez où je veux en venir).\n",
    "\n",
    "Quels sont les constructeurs que c++ genère ? oui Toy$<$float$>$::Toy(float) {...} (le constructeur de la classe Toy où T est float), oui aussi Toy$<$const char\\*$>$::Toy(const char\\*){...} et oui aussi Toy$<$int$>$::Toy(int){...} ... et pour beu ? et bien non rien c'est un pointeur non initialisé (ce qui est très dangereux) vers un objet de type Toy$<$bool$>$ mais l'objet n'a pas été construit donc pas besoin du constructeur pour les Toy *booléans* ...\n",
    "\n",
    "pour les fonctions ? pareil il génère celles qui sont appelées donc Toy$<$float$>$::play() {...}, Toy$<$const char\\*$>$::play() {...} et enfin Toy$<$int$>$::tidy().\n",
    "\n",
    "\n",
    "Pensez-vous que ce soit tout ? (si on demande vous savez donc que ce n'est pas tout ...) non bien sûr, rappelez-vous, quand un objet arrive en fin de vie, que lui arrive-t-il ? il est détruit, donc c++ doit générer les desctructeurs aussi mais lesquels et bien logiquement les types pour lesquels il a généré le constructeur, donc pas pour les Toy *booléens* !\n",
    "\n",
    "\n",
    "Voila, vous avez désormais compris: ce mécanisme de template complètement différent d'une compilation classique il intervient avant\n",
    "la compilation classique et il permet de construire et compiler votre code à la\n",
    "volée.\n",
    "\n",
    "Vous avez écrit un code qui permet de générer un autre code: vous avez fait de la meta programmation. C'est cool."
   ]
  },
  {
   "cell_type": "markdown",
   "metadata": {},
   "source": [
    "Nous en entendons déjà les pragmatiques qui disent *mais si je veux définir mes fonctions en dehors de la classe comment je dois faire ?* Ok nous leur donnons la syntaxe..."
   ]
  },
  {
   "cell_type": "markdown",
   "metadata": {},
   "source": [
    "```c++\n",
    "#include <iostream>\n",
    "template <typename T>\n",
    "class Toy {\n",
    "private:\n",
    "  T element;\n",
    "public:\n",
    "  Toy (T e);\n",
    "  void play ();\n",
    "  void tidy ();\n",
    "};\n",
    "\n",
    "template <typename T>\n",
    "inline Toy<T>::Toy (T e): element(e) {}\n",
    "\n",
    "template <typename T>\n",
    "inline void Toy<T>::play () {\n",
    "  std::cout << \"Playing with \" << element << std::endl;\n",
    "}\n",
    "    \n",
    "template <typename T>\n",
    "inline void Toy<T>::tidy () {\n",
    "  std::cout << \"Je range \" << element << std::endl;\n",
    "}\n",
    "\n",
    "int main () {\n",
    "  Toy<const char*> j(\"c++\");\n",
    "  j.play();\n",
    "}\n",
    "```"
   ]
  },
  {
   "cell_type": "markdown",
   "metadata": {},
   "source": [
    "Alors là l'un d'entre vous remarque tout de suite le mot clé inline qui a hanté vos cours de c++ ! alors on explique. Pour faire court, les fonctions définies (i.e. dont on explicite le corps) à l'intérieur de la classe (dans les { }) sont des fonctions inline par défaut mais les fonctions définies à l'extérieur de la classe (à l'extérieur des {}) ne le sont pas, il faut le préciser pour qu'elles le soient.\n",
    "\n",
    "et inline dans tout cela ? ah oui, ca indique simplement au compilateur qu'il doit\n",
    "remplacer les appels de fonctions par le corps des fonctions et ainsi\n",
    "plus de perte de temps inutile lors de l'appel de la fonction: on ne va pas chercher son code en mémoire (elle n'a pas de code donc pas d'adresse), on n'empile pas ses arguments sur la pile d'exécution de c++, on en dépile pas non plus ses arguments une fois la fonction terminée.\n",
    "\n"
   ]
  },
  {
   "cell_type": "markdown",
   "metadata": {},
   "source": [
    "Maintenant à vous de jouer !\n",
    "\n",
    "Reprenons donc le code de notre célèbre\n",
    "intstack. C'est un conteneur qui (par pur hasard) contient des entiers\n",
    "mais naturellement son mécanisme serait le même pour des chaînes de\n",
    "caractères, de Matrices...\n",
    "\n",
    "Vous l'avez compris, la solution qui consisterait à faire une classe\n",
    "StringStack coupant/collant le code de la IntStack et en\n",
    "remplacant (aux bons endroits) les int par des std::string (maintenant que vous connaissez les templates) n'est pas la bonne solution... mais disons que c'est néanmoins comme cela qu'il faut commencer vos templates (même B. Stroustrup le dit): vous commencez par implémenter vos templates sur un type existant (genre int comme votre IntStack), et une fois votre code bien débuggé et bien testé, vous le généralisez en remplacant le type choisi par T ! \n",
    "\n",
    "Donc vous allez prendre votre classe IntStack, dire qu'elle est template (i.e. elle manipule un ou plusieurs types non spécifiés) et remplacer les int par un paramètre T (aux bons endroits ... heu non pas le int indiquant le type de la taille de la pile ... non plus le int du type de top ... oui celui qui est passé en argument de push ...)."
   ]
  },
  {
   "cell_type": "markdown",
   "metadata": {},
   "source": [
    "Comme en période de confinement, de pales et de campagne BDE,\n",
    "les codes des IntStack sont super difficiles à retrouver, nous vous en\n",
    "donnons un au cas où (mais naturellement préférez le vôtre). Attention: peut-il y avoir des erreurs dans ce code ? mais oui bien sûr ! soyez toujours méfiant devant le code des autres surtout quand il vient sans son jeu de tests... Il y a bien une erreur dans la fonction  operator= (saurez-vous la trouver ? sinon gare aux segfaults quand vous affecterez un objet de type IntStack à un autre objet de type IntStack existant). En période de confinement on s'amuse comme on peut...\n",
    "\n",
    "Au passage nous pensons que vous en avez super marre de copier/coller la définition de la classe IntStack dans des fichiers .cpp aussi nous avons naturellement mis la définition de la IntStack dans un fichier de header (un .h) qui peut être inclus dans un autre fichier (soir .h soit .cpp) et nous l'avons protégé contre plusieurs inclusions de ce même fichier lors d'une compilation. Pour faire court au premier #include \"intstack.h\" rencontré lors d'une compilation, la variable shell INTSTACK_H n'existe pas (i.e. #ifndef INTSTACK_H est true et que ifndef = if-not-defined), on la définit (i.e. #define INTSTACK_H est exécuté), maintenant dans ce même fil de compilation quand on va repasser sur une inclusion de intstack.h, la variable INTSTACK_H existera et on ne passera pas dans le corps de la branche then du ifndef qui définit la classe."
   ]
  },
  {
   "cell_type": "markdown",
   "metadata": {},
   "source": [
    "```c++\n",
    "// dans le fichier intstack.h\n",
    "#ifndef INTSTACK_H\n",
    "#define INTSTACK_H\n",
    "\n",
    "#include <iostream>\n",
    "#include <stdexcept>\n",
    "\n",
    "class IntStack {\n",
    "private:\n",
    "  int * tab;\n",
    "  int top;\n",
    "  int size;\n",
    "\n",
    "public:\n",
    "\n",
    "  IntStack (int s): size(s), top(0) {\n",
    "    if (size <= 0)\n",
    "      throw std::range_error(\"Bad stack size\");\n",
    "    else\n",
    "      tab = new int[s];\n",
    "  }\n",
    "\n",
    "  IntStack (const IntStack& rs): size(rs.size), top(rs.top) {\n",
    "    tab = new int[size];\n",
    "    for (int i=0; i < top ; ++i)\n",
    "      tab[i] = rs.tab[i];\n",
    "  }\n",
    "\n",
    "  ~IntStack(){\n",
    "    delete [] tab;\n",
    "  }\n",
    "\n",
    "  IntStack& operator= (const IntStack& rs) {\n",
    "    if (this != &rs){\n",
    "      delete [] tab;\n",
    "      tab = new int[size];\n",
    "      top = rs.top;\n",
    "      for (int i=0; i<top ; ++i){\n",
    "        tab[i] = rs.tab[i];\n",
    "      }\n",
    "    }\n",
    "    return * this;\n",
    "  }\n",
    "\n",
    "  bool is_empty () const {\n",
    "    return top == 0;\n",
    "  }\n",
    "  \n",
    "  bool is_full () {\n",
    "    return top == size;\n",
    "  }\n",
    "\n",
    "  void push (int e) {\n",
    "    if (is_full())\n",
    "      throw std::range_error(\"The stack is full\");\n",
    "    tab[top] = e ;\n",
    "    top = top + 1;\n",
    "  }\n",
    "\n",
    "  void print (std::ostream& os) const {\n",
    "    os << \"[ \";\n",
    "    for (int i=0 ; i<top; ++i)\n",
    "      os << tab[i] << ' ';\n",
    "    os << \"[\" << std::endl;\n",
    "  }\n",
    "\n",
    "  int pop() {\n",
    "    if (is_empty())\n",
    "      throw std::range_error(\"The stack is empty\");\n",
    "    top = top - 1;\n",
    "    return tab[top];\n",
    "  }\n",
    "};\n",
    "#endif // INTSTACK_H\n",
    "```"
   ]
  },
  {
   "cell_type": "markdown",
   "metadata": {},
   "source": [
    "Prenez le temps de programmer votre stack template ... (dessous ce sont de petites remarques)"
   ]
  },
  {
   "cell_type": "markdown",
   "metadata": {},
   "source": [
    "Vous remarquez que: la construction d'une pile de taille négative ou nulle, le dépilement d'une pile vide et l'empilement sur une pile pleine déclenchent des erreurs c++ (throw) et que nous avons choisi de prendre des erreurs pré-définies par c++ dans stdexcept là http://www.cplusplus.com/reference/stdexcept/ vous pouvez naturellement en choisir d'autres chacun ses goûts... voire faire les vôtres (mais nous on applique L'axiome de la programmation *moins on en fait mieux on se porte* et on récupère tout ce qu'on peut dans les endroits en lesquels on a confiance (oui genre la lib std de c++)"
   ]
  },
  {
   "cell_type": "markdown",
   "metadata": {},
   "source": [
    "Quelqu'un a-t-il remarqué les deux const qui apparaissent dans de drôles d'endroits dans les fonctions is\\_empty() et print(). Quelqu'un a-t-il une idée de l'utilité ?\n",
    "\n",
    "Et bien je ne vais pas vous répondre directement mais vous allez essayer de compiler les deux codes suivants et vous en déduirez de vous même à quoi servent ces const... (parce qu'il en manque un et que ca va faire une erreur dans le second code)."
   ]
  },
  {
   "cell_type": "markdown",
   "metadata": {},
   "source": [
    "```c++\n",
    "#include <iostream>\n",
    "#include \"intstack.h\"\n",
    "void foo (const IntStack& ri) {\n",
    "  if (ri.is_empty())\n",
    "    std::cout << \"la pile d'entiers passée à foo est vide !\";\n",
    "  else\n",
    "    ri.print(std::cout);\n",
    "}\n",
    "\t  \n",
    "int main () {\n",
    "  IntStack s (3);\n",
    "  foo(s);\n",
    "  return 0;\n",
    "}\n",
    "```\n",
    "```\n",
    "$ g++ intstack.cpp -o intstack\n",
    "$ ./intstack\n",
    "la pile d'entiers passée à foo est vide !\n",
    "```"
   ]
  },
  {
   "cell_type": "markdown",
   "metadata": {},
   "source": [
    "pas de problème le suivant maintenant ..."
   ]
  },
  {
   "cell_type": "markdown",
   "metadata": {},
   "source": [
    "```c++\n",
    "#include <iostream>\n",
    "#include \"intstack.h\"\n",
    "\n",
    "void bar (const IntStack& ri) {\n",
    "  if (ri.is_full())\n",
    "    std::cout << \"la pile d'entiers passée à foo est pleine !\";\n",
    "  else\n",
    "    ri.print(std::cout);\n",
    "}\n",
    "\t  \n",
    "int main () {\n",
    "  IntStack s (3);\n",
    "  foo(s);\n",
    "  return 0;\n",
    "}\n",
    "\n",
    "```"
   ]
  },
  {
   "cell_type": "markdown",
   "metadata": {},
   "source": [
    "Avez-vous compris où le const manque et à quoi il sert ?"
   ]
  },
  {
   "cell_type": "markdown",
   "metadata": {},
   "source": [
    "END"
   ]
  }
 ],
 "metadata": {
  "kernelspec": {
   "display_name": "Python 3",
   "language": "python",
   "name": "python3"
  },
  "language_info": {
   "codemirror_mode": {
    "name": "ipython",
    "version": 3
   },
   "file_extension": ".py",
   "mimetype": "text/x-python",
   "name": "python",
   "nbconvert_exporter": "python",
   "pygments_lexer": "ipython3",
   "version": "3.7.4"
  },
  "toc": {
   "base_numbering": 1,
   "nav_menu": {},
   "number_sections": true,
   "sideBar": true,
   "skip_h1_title": false,
   "title_cell": "Table of Contents",
   "title_sidebar": "Contents",
   "toc_cell": false,
   "toc_position": {},
   "toc_section_display": true,
   "toc_window_display": false
  }
 },
 "nbformat": 4,
 "nbformat_minor": 2
}
